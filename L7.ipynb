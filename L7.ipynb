{
 "cells": [
  {
   "cell_type": "markdown",
   "metadata": {},
   "source": [
    "1. Решить систему уравнений методом Крамера:"
   ]
  },
  {
   "cell_type": "code",
   "execution_count": 3,
   "metadata": {},
   "outputs": [],
   "source": [
    "import numpy as np\n",
    "import scipy.linalg\n",
    "import warnings"
   ]
  },
  {
   "cell_type": "markdown",
   "metadata": {},
   "source": [
    "   а) $\\begin{cases}\n",
    "x_{1}-2x_{2}=1 \\\\\n",
    "3x_{1}-4x_{2}=7\n",
    "\\end{cases}$"
   ]
  },
  {
   "cell_type": "code",
   "execution_count": 10,
   "metadata": {},
   "outputs": [
    {
     "data": {
      "text/plain": [
       "(4.999999999999998, 1.9999999999999991)"
      ]
     },
     "execution_count": 10,
     "metadata": {},
     "output_type": "execute_result"
    }
   ],
   "source": [
    "A = np.array([[1,-2],[3,-4]])\n",
    "A1= np.array([[1,-2],[7,-4]])\n",
    "A2= np.array([[1,1],[3,7]])\n",
    "x1= np.linalg.det(A1)/np.linalg.det(A)\n",
    "x2= np.linalg.det(A2)/np.linalg.det(A)\n",
    "x1, x2"
   ]
  },
  {
   "cell_type": "markdown",
   "metadata": {},
   "source": [
    "б) $\\begin{cases}\n",
    "2x_{1}-x_{2}+5x_{3}=10 \\\\\n",
    "x_{1}+x_{2}-3x_{3}=-2 \\\\\n",
    "2x_{1}+4x_{2}+x_{3}=1\n",
    "\\end{cases}$"
   ]
  },
  {
   "cell_type": "code",
   "execution_count": 367,
   "metadata": {},
   "outputs": [
    {
     "data": {
      "text/plain": [
       "(2.0000000000000018, -1.0000000000000009, 1.0)"
      ]
     },
     "execution_count": 367,
     "metadata": {},
     "output_type": "execute_result"
    }
   ],
   "source": [
    "A  =np.array([[2,-1, 5],[1,1,-3],[2,4,1]])\n",
    "A1 =np.array([[10,-1, 5],[-2,1,-3],[1,4,1]])\n",
    "A2 =np.array([[2,10, 5],[1,-2,-3],[2,1,1]])\n",
    "A3 =np.array([[2,-1, 10],[1,1,-2],[2,4,1]])\n",
    "x1= np.linalg.det(A1)/np.linalg.det(A)\n",
    "x2= np.linalg.det(A2)/np.linalg.det(A)\n",
    "x3= np.linalg.det(A3)/np.linalg.det(A)\n",
    "x1, x2, x3"
   ]
  },
  {
   "cell_type": "markdown",
   "metadata": {},
   "source": [
    "__2*.__ Найти $L$-матрицу $LU$-разложения для матрицы коэффициентов:"
   ]
  },
  {
   "cell_type": "markdown",
   "metadata": {},
   "source": [
    "а)$\\begin{pmatrix}\n",
    "1 & 2 & 4 \\\\ \n",
    "2 & 9 & 12 \\\\ \n",
    "3 & 26 & 30\n",
    "\\end{pmatrix}$"
   ]
  },
  {
   "cell_type": "markdown",
   "metadata": {},
   "source": [
    "$L =\\begin{pmatrix}\n",
    "1 & 0 & 0 \\\\ \n",
    "2 & 1 & 0 \\\\ \n",
    "3 & 4 & 1\n",
    "\\end{pmatrix}$"
   ]
  },
  {
   "cell_type": "markdown",
   "metadata": {},
   "source": [
    "б)$\\begin{pmatrix}\n",
    "1 & 1 & 2 & 4\\\\ \n",
    "2 & 5 & 8 & 9\\\\ \n",
    "3 & 18 & 29 & 18\\\\\n",
    "4 & 22 & 53 & 33\n",
    "\\end{pmatrix}$"
   ]
  },
  {
   "cell_type": "markdown",
   "metadata": {},
   "source": [
    "L= $\\begin{pmatrix}\n",
    "1 & 0 & 0 & 0\\\\ \n",
    "2 & 1 & 0 & 0\\\\ \n",
    "3 & 5 & 1 & 0\\\\\n",
    "4 & 6 & 7 & 1\n",
    "\\end{pmatrix}$"
   ]
  },
  {
   "cell_type": "markdown",
   "metadata": {},
   "source": [
    "__3*.__ Решить систему линейных уравнений методом $LU$-разложения"
   ]
  },
  {
   "cell_type": "markdown",
   "metadata": {},
   "source": [
    "$\\begin{cases}\n",
    "2x_{1}+x_{2}+3x_{3}=1 \\\\\n",
    "11x_{1}+7x_{2}+5x_{3}=-6 \\\\\n",
    "9x_{1}+8x_{2}+4x_{3}=-5\n",
    "\\end{cases}$"
   ]
  },
  {
   "cell_type": "code",
   "execution_count": 13,
   "metadata": {},
   "outputs": [],
   "source": [
    "def triangle_down(A,B):\n",
    "    N=np.array([1])\n",
    "    for i in range(len(A)):\n",
    "        d=B[i]\n",
    "        for j in range(i):\n",
    "            d-=A[i][j]*N[j+1]\n",
    "        N=np.append(N,[d/A[i][i]],axis=0) \n",
    "    N=np.delete(N,0)\n",
    "    return(N)"
   ]
  },
  {
   "cell_type": "code",
   "execution_count": 14,
   "metadata": {},
   "outputs": [],
   "source": [
    "def triangle_up(A,B):\n",
    "    N=np.array([1])\n",
    "    for i in range(len(A)-1,-1, -1):\n",
    "        d=B[i]\n",
    "        for j in range(len(A)-1,i,-1):\n",
    "            d-=A[i][j]*N[(len(A)-j)]\n",
    "        N=np.append(N,[d/A[i][i]],axis=0)\n",
    "    N=np.delete(N,0)\n",
    "    return(N[::-1])"
   ]
  },
  {
   "cell_type": "code",
   "execution_count": 15,
   "metadata": {},
   "outputs": [
    {
     "data": {
      "text/plain": [
       "array([-1.,  0.,  1.])"
      ]
     },
     "execution_count": 15,
     "metadata": {},
     "output_type": "execute_result"
    }
   ],
   "source": [
    "A=np.array([[2,1,3],[11,7,5],[9,8,4]])\n",
    "B=np.array([1,-6,-5])\n",
    "P,L,U = scipy.linalg.lu(A)\n",
    "BP = np.dot(P.T,B)\n",
    "Y=triangle_down(L,BP)\n",
    "X=triangle_up(U,Y)\n",
    "X"
   ]
  },
  {
   "cell_type": "markdown",
   "metadata": {},
   "source": [
    "__4*.__ Решить систему линейных уравнений методом Холецкого\n"
   ]
  },
  {
   "cell_type": "markdown",
   "metadata": {},
   "source": [
    "$\\begin{cases}\n",
    "81x_{1}-45x_{2}+45x_{3}=531 \\\\\n",
    "-45x_{1}+50x_{2}-15x_{3}=-460 \\\\\n",
    "45x_{1}-15x_{2}+38x_{3}=193\n",
    "\\end{cases}$"
   ]
  },
  {
   "cell_type": "code",
   "execution_count": 16,
   "metadata": {},
   "outputs": [
    {
     "data": {
      "text/plain": [
       "array([ 6., -5., -4.])"
      ]
     },
     "execution_count": 16,
     "metadata": {},
     "output_type": "execute_result"
    }
   ],
   "source": [
    "A=np.array([[81, -45, 45], [-45,50,-15],[45,-15,38]])\n",
    "A1=np.array([81, -45, 45])\n",
    "B=np.array([531,-460,193])\n",
    "L= np.linalg.cholesky(A)\n",
    "Y=triangle_down(L,B)\n",
    "X=triangle_up(L.T,Y)\n",
    "X"
   ]
  },
  {
   "cell_type": "markdown",
   "metadata": {},
   "source": [
    "__5*.__ Написать на Python программу с реализацией одного из изученных алгоритмов решения СЛАУ."
   ]
  },
  {
   "cell_type": "code",
   "execution_count": 17,
   "metadata": {},
   "outputs": [],
   "source": [
    "def kramer(A,B):\n",
    "    if np.linalg.det(A)==0:\n",
    "        print('kramer is not possible')\n",
    "        return\n",
    "     \n",
    "    X=[]\n",
    "    \n",
    "    for i in range(len(A)):\n",
    "        AB=A.copy()\n",
    "        AB[:,i]=B\n",
    "        X.append(np.linalg.det(AB)/np.linalg.det(A))\n",
    "        \n",
    "    return X\n",
    "        \n",
    "        \n",
    "        \n",
    "    \n",
    "    "
   ]
  },
  {
   "cell_type": "code",
   "execution_count": null,
   "metadata": {},
   "outputs": [],
   "source": []
  }
 ],
 "metadata": {
  "kernelspec": {
   "display_name": "Python 3",
   "language": "python",
   "name": "python3"
  },
  "language_info": {
   "codemirror_mode": {
    "name": "ipython",
    "version": 3
   },
   "file_extension": ".py",
   "mimetype": "text/x-python",
   "name": "python",
   "nbconvert_exporter": "python",
   "pygments_lexer": "ipython3",
   "version": "3.7.3"
  }
 },
 "nbformat": 4,
 "nbformat_minor": 2
}
